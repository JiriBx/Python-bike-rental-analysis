{
 "cells": [
  {
   "cell_type": "markdown",
   "id": "30792a06",
   "metadata": {},
   "source": [
    "Problem Definition\n",
    "A bike‐rental dataset covering October 1 to December 22, 2023 (with rentals missing from October 31 to November 23) was analyzed to understand how weather, time of day, day of week, and holidays affect demand.\n",
    "\n",
    "Findings\n",
    "\n",
    "Weather Effects\n",
    "- Temperature shows the strongest positive correlation with rental counts up to about 80 °F.\n",
    "- Humidity correlates negatively—higher humidity leads to fewer rentals.\n",
    "- Wind speed also has a mild negative impact on rentals.\n",
    "\n",
    "Hourly Patterns\n",
    "- Rentals are lowest around 5 AM.\n",
    "- A modest morning peak occurs around 7 AM, then dips midday.\n",
    "- The evening commute peak is at 5 PM, followed by a steady decline overnight.\n",
    "\n",
    "Weekly Trends\n",
    "- Demand declines Monday through Wednesday (with Wednesday lowest).\n",
    "- From Thursday onward demand rises, peaking on Saturday.\n",
    "-Holidays did not produce a marked deviation from typical patterns.\n",
    "\n",
    "User Behavior Insight\n",
    "- The timing and shape of peaks suggest many users ride for commuting, favoring bikes on the way home when temperatures are more comfortable and hands are free.\n",
    "\n",
    "Conclusion\n",
    "The analysis reveals clear temporal and weather‐related patterns in bike rentals. Temperature, humidity, and wind meaningfully influence demand, while weekday and hourly cycles highlight commuter behavior. Armed with these insights, the company can optimize inventory placement, schedule maintenance during low‐demand periods, and tailor promotions or pricing to peak windows. Further study—such as deeper investigation into humidity’s nonlinear effects—could refine these strategies even more."
   ]
  },
  {
   "cell_type": "code",
   "execution_count": null,
   "id": "2a65fe3a",
   "metadata": {
    "scrolled": true
   },
   "outputs": [],
   "source": [
    "# General data prep\n",
    "#%pip install seaborn\n",
    "# panda package import\n",
    "import pandas            as pd  # data science package\n",
    "import matplotlib.pyplot as plt # data visualisation package\n",
    "import seaborn           as sns # data visualisation enhancement package\n",
    "\n",
    "\n",
    "# storing the path to the dataset\n",
    "file = \"../data/bikes_data.xlsx\"\n",
    "\n",
    "# convert Holiday and functioningDay to category \n",
    "data_types = {\"Holiday\": \"category\", \n",
    "              \"FunctioningDay\": \"category\"}\n",
    "\n",
    "# reading the file into Python through pandas \n",
    "bikes = pd.read_excel(io         = file,\n",
    "                      sheet_name = 'data',\n",
    "                      header     = 0,\n",
    "                      dtype      = data_types,\n",
    "                      usecols    = range(1, 13) ) #leaving out ID which I don't use\n",
    "\n",
    "\n",
    "# print first 10 rows as a preview\n",
    "bikes.head(n = 10)\n"
   ]
  },
  {
   "cell_type": "code",
   "execution_count": null,
   "id": "b098df0d",
   "metadata": {},
   "outputs": [],
   "source": [
    "# Data quality analysis, standardization and cleanup\n",
    "\n",
    "\n",
    "# Convert categorical columns to numeric codes so I can work with them later\n",
    "bikes['Holiday'] = bikes['Holiday'].cat.codes\n",
    "bikes['FunctioningDay'] = bikes['FunctioningDay'].cat.codes\n",
    "\n",
    "\n",
    "# check the data types\n",
    "bikes.info(verbose = True)\n",
    "\n",
    "missing_data = bikes.isnull().sum()\n",
    "missing_data_percentage = (missing_data / len(bikes)) * 100\n",
    "\n",
    "# Round the percentage of missing data to 0 decimal places\n",
    "missing_data_percentage = missing_data_percentage.round(0)\n",
    "\n",
    "print(f\"\\nPercentage of missing data per column:\\n{missing_data_percentage}\")\n",
    "\n"
   ]
  },
  {
   "cell_type": "markdown",
   "id": "2297aea8",
   "metadata": {},
   "source": [
    "Data used for the analysis and conclusion has a good quality. Visibility, DewPointTemperature and SolarRadiation columns had 4% of missing data which were not significant so the analysis has been done on all rows. "
   ]
  },
  {
   "cell_type": "code",
   "execution_count": null,
   "id": "22efe0a4",
   "metadata": {},
   "outputs": [],
   "source": [
    "# Analysis on days in a week rental\n",
    "\n",
    "# Extract the day of the week from 'DateHour'\n",
    "bikes['DayOfWeek'] = bikes['DateHour'].dt.dayofweek\n",
    "\n",
    "# Group by 'DayOfWeek' and sum the rentals\n",
    "rentals_by_day = bikes.groupby('DayOfWeek')['RENTALS'].sum()\n",
    "\n",
    "# Map the day of the week from numbers to names\n",
    "days_of_week = {0: 'Monday', 1: 'Tuesday', 2: 'Wednesday', 3: 'Thursday', 4: 'Friday', 5: 'Saturday', 6: 'Sunday'}\n",
    "rentals_by_day.index = rentals_by_day.index.map(days_of_week)\n",
    "\n",
    "# Plot the bar chart\n",
    "plt.figure(figsize = (10, 6))\n",
    "rentals_by_day.plot(kind = 'bar')\n",
    "plt.title('Total Bike Rentals by Day of the Week')\n",
    "plt.xlabel('Day of the Week')\n",
    "plt.ylabel('Total Rentals')\n",
    "plt.xticks(rotation = 45)\n",
    "\n",
    "# Calculate the average rentals\n",
    "average_rentals = rentals_by_day.mean()\n",
    "\n",
    "plt.show()"
   ]
  },
  {
   "cell_type": "markdown",
   "id": "5546fab6",
   "metadata": {},
   "source": [
    "Visual inspection helps us to understand that the Wednesday is the day where we rented the lowest number of bikes while Saturday has the highest number of rentals\n",
    "\n",
    "Room for improvement: Anova test to confirm/reject the hypothesis there is no significant diference in number of rentals in weekdays and weekends or T test if we want to compare  the two groups of weekend vs weekdays"
   ]
  },
  {
   "cell_type": "code",
   "execution_count": null,
   "id": "ce906db9",
   "metadata": {},
   "outputs": [],
   "source": [
    "# analysis on a trend in a month\n",
    "\n",
    "# Convert 'DateHour' to datetime\n",
    "bikes['DateHour'] = pd.to_datetime(bikes['DateHour'])\n",
    "\n",
    "# Group by date to aggregate rentals by day\n",
    "bikes['Date'] = bikes['DateHour'].dt.date\n",
    "daily_rentals = bikes.groupby('Date')['RENTALS'].sum()\n",
    "\n",
    "# Plot the line chart for daily rentals\n",
    "plt.figure( figsize = (12, 6))\n",
    "plt.plot(daily_rentals.index, daily_rentals.values)\n",
    "plt.title('Daily Bike Rentals')\n",
    "plt.xlabel('Date')\n",
    "plt.ylabel('Total Rentals')\n",
    "\n",
    "#OpenAI, chatgpt\n",
    "# Define your step\n",
    "step = 7  # Display one label every 7 days, for example\n",
    "\n",
    "# Use the step to reduce the number of labels\n",
    "plt.xticks(daily_rentals.index[::step], daily_rentals.index[::step], rotation=90)\n",
    "plt.grid(False)\n",
    "plt.show()"
   ]
  },
  {
   "cell_type": "markdown",
   "id": "c086f3f5",
   "metadata": {},
   "source": [
    "Numbrers of rentals in all available days doesn't show us any trend but it's obivous that there are spikes and dips. Hypothesis to explore: Rentals are influenced by weather conditions and holidays. There is a gap between Oct 31 - Nov 23 where no bikes have been rented based on the available data. Some dates indicate 0 rentals.\n",
    "\n",
    "Room for improvement: Analysis of the 10/29 - 11/27 period"
   ]
  },
  {
   "cell_type": "code",
   "execution_count": null,
   "id": "2d2bf64f",
   "metadata": {
    "scrolled": true
   },
   "outputs": [],
   "source": [
    "# analysis on a trend in a daytime\n",
    "\n",
    "# Extract the hour from 'DateHour'\n",
    "bikes['Hour'] = bikes['DateHour'].dt.hour\n",
    "\n",
    "# Group by 'Hour' and sum the rentals\n",
    "rentals_by_hour = bikes.groupby('Hour')['RENTALS'].sum()\n",
    "\n",
    "# Plot the data\n",
    "plt.figure(figsize = (12, 6))\n",
    "plt.plot(rentals_by_hour.index, rentals_by_hour.values)\n",
    "plt.title('Total Bike Rentals by Hour of the Day')\n",
    "plt.xlabel('Hour of the Day')\n",
    "plt.ylabel('Total Rentals')\n",
    "plt.xticks(range(0, 25))  # Set x-axis labels from 0 to 24\n",
    "plt.grid(False)\n",
    "plt.tight_layout()\n",
    "plt.show()\n",
    "\n"
   ]
  },
  {
   "cell_type": "markdown",
   "id": "ea526a8f",
   "metadata": {},
   "source": [
    "One of the data point helping us to strategize our operations is the understanding of how the rentals are distributed in the day. This graph with Hour of the day (military time) on x axis and Total rentals in a given period on y axis shows the deistribution of the rentals within a day. Based on the available data we can clearly say that we start renting our bikes from 4am with little bit of valley from 7am to 1pm following by the steep increase of rentals till 5pm where we experience peak. From that point the rentals decrease. There is no available data for midnight but we can assume continueus decline that reaches the below 10000 rentals at 4am. It's good to notice that in the peak we rent more than 8x more than in the bottom in the given period of the data set from Oct 1, 2023 to Dec 22, 2023."
   ]
  },
  {
   "cell_type": "code",
   "execution_count": null,
   "id": "3331498a",
   "metadata": {
    "scrolled": true
   },
   "outputs": [],
   "source": [
    "# correlation of the weather condition attributes with bike rentals and visualisation\n",
    "\n",
    "\n",
    "#Group by date to aggregate rentals by day\n",
    "bikes['Date'] = bikes['DateHour'].dt.date\n",
    "\n",
    "# Drop the 'Date', 'Holiday', and 'FunctioningDay' columns for the correlation analysis\n",
    "bikes_for_correlation = bikes.drop(columns = [ 'Date', 'Holiday', 'FunctioningDay'])\n",
    "\n",
    "# Compute the Pearson correlation matrix\n",
    "correlation_matrix = bikes_for_correlation.corr(method='pearson')\n",
    "\n",
    "# Extract correlations with the 'RENTALS' column\n",
    "correlation_with_rentals = correlation_matrix['RENTALS']\n",
    "correlation_with_rentals = correlation_with_rentals.round(2)  # Round to 2 decimal places\n",
    "\n",
    "# Print the correlation results\n",
    "print(f\"\\nCorrelation of weather conditions with bike rentals:\\n\\n{correlation_with_rentals}\")\n",
    "\n",
    "# Visualize the correlation matrix using a heatmap\n",
    "sns.heatmap(correlation_matrix)\n",
    "plt.title('Correlation Matrix of Bike Rentals and Weather Conditions')\n",
    "plt.show(block = True)"
   ]
  },
  {
   "cell_type": "markdown",
   "id": "cebf41c8",
   "metadata": {},
   "source": [
    "This heatmap helps us understand the correlation between weather conditions and rentals. There are some attributes impacting the rentals positively and some negatively. Based on this data we can state following:\n",
    "\n",
    "The bikes are more likely be rented in warmer weather. The higher humidity levels impacts negatively the rentals. Both rainfall and snowfall impacts the rentals negatively as well. The higher radiation which perhaps can be understand as the sunny days are slightly associated with the more bike rentals. Wind has also negative impact on the rentals.\n",
    "While non of the above has a strong correlation as a single attribute the rest of the attributes have a minimal or no significant correlation with the rentals.\n",
    "\n"
   ]
  },
  {
   "cell_type": "code",
   "execution_count": null,
   "id": "6ff78fe6",
   "metadata": {},
   "outputs": [],
   "source": [
    "# creating a dummy column\n",
    "bikes['Rented bikes'] = \"\"\n",
    "\n",
    "\n",
    "# for loop with iterrows() <-- one of the most useful methods for DataFrames\n",
    "for index, col in bikes.iterrows():\n",
    "    \n",
    "    \n",
    "    # conditionals to change the values in the new column\n",
    "    if bikes.loc[index, 'Temperature(F)'] < 20:\n",
    "        bikes.loc[index, 'Rented bikes'] = '[0, 20)'\n",
    "        \n",
    "        \n",
    "    elif bikes.loc[index, 'Temperature(F)'] < 40:\n",
    "         bikes.loc[index, 'Rented bikes'] = '[20 - 40)'\n",
    "        \n",
    "        \n",
    "    elif bikes.loc[index, 'Temperature(F)'] < 60:\n",
    "         bikes.loc[index, 'Rented bikes'] = '[40 - 60)'\n",
    "        \n",
    "        \n",
    "    elif bikes.loc[index, 'Temperature(F)'] < 80:\n",
    "         bikes.loc[index, 'Rented bikes'] = '[60 - 80)'\n",
    "        \n",
    "        \n",
    "    elif bikes.loc[index, 'Temperature(F)'] >= 80: \n",
    "        bikes.loc[index, 'Rented bikes'] = '[80 - inf)'\n",
    "    \n",
    "    \n",
    "    # safety net\n",
    "    else:\n",
    "        bikes.loc[index, 'Rented bikes'] = 'error'\n",
    "\n",
    "\n",
    "# instantiating an lmplot for carat and price\n",
    "sns.lmplot(x          = 'Temperature(F)',  \n",
    "           y          = 'RENTALS',  \n",
    "           hue        = 'Rented bikes', # categorical data for subsets\n",
    "           legend     = False       , # supressing the legend \n",
    "           scatter    = True        ,     \n",
    "           fit_reg    = True        ,     \n",
    "           aspect     = 2           ,        \n",
    "           data       = bikes    )\n",
    "\n",
    "\n",
    "# developing vertical axis lines\n",
    "value = 0\n",
    "\n",
    "while value < 100:\n",
    "    \n",
    "    # making a vertical line\n",
    "    plt.axvline(x = value, color = \"purple\", linestyle = '--')\n",
    "    \n",
    "    # incrementing value in one-quarter increments\n",
    "    value += 20\n",
    "\n",
    "\n",
    "plt.title('Temperature vs. Bike Rentals')\n",
    "plt.xlabel('Temperature (F)')\n",
    "plt.ylabel('Rented bikes')\n",
    "plt.xlim        (left   = 25, right = 90          ) # adjusting the display area \n",
    "plt.tight_layout(pad    = 1.0                     )\n",
    "plt.show        (block  = True                    )"
   ]
  },
  {
   "cell_type": "markdown",
   "id": "6709714e",
   "metadata": {},
   "source": [
    "The distribution of the rentals on the graph suggest that there is a trend showing us that the higher temperature the more rentals in a range of 20-80F. Especially in the 40-60 temperature which looks the most favorable based on the density. There is no bike rented in a temperature below 20F. The closer to 90F it gets the fewer bikes rented. There are no bikes rented when temperature exeeds 85F."
   ]
  },
  {
   "cell_type": "code",
   "execution_count": null,
   "id": "3007c97e-8eff-48a3-b296-627a47a313f2",
   "metadata": {},
   "outputs": [],
   "source": []
  },
  {
   "cell_type": "code",
   "execution_count": null,
   "id": "033fdef3-8172-4cf1-8326-e9cc0e407403",
   "metadata": {},
   "outputs": [],
   "source": []
  }
 ],
 "metadata": {
  "kernelspec": {
   "display_name": "Python 3 (ipykernel)",
   "language": "python",
   "name": "python3"
  },
  "language_info": {
   "codemirror_mode": {
    "name": "ipython",
    "version": 3
   },
   "file_extension": ".py",
   "mimetype": "text/x-python",
   "name": "python",
   "nbconvert_exporter": "python",
   "pygments_lexer": "ipython3",
   "version": "3.10.16"
  },
  "toc": {
   "base_numbering": 1,
   "nav_menu": {},
   "number_sections": true,
   "sideBar": true,
   "skip_h1_title": false,
   "title_cell": "Table of Contents",
   "title_sidebar": "Contents",
   "toc_cell": false,
   "toc_position": {},
   "toc_section_display": true,
   "toc_window_display": false
  },
  "varInspector": {
   "cols": {
    "lenName": 16,
    "lenType": 16,
    "lenVar": 40
   },
   "kernels_config": {
    "python": {
     "delete_cmd_postfix": "",
     "delete_cmd_prefix": "del ",
     "library": "var_list.py",
     "varRefreshCmd": "print(var_dic_list())"
    },
    "r": {
     "delete_cmd_postfix": ") ",
     "delete_cmd_prefix": "rm(",
     "library": "var_list.r",
     "varRefreshCmd": "cat(var_dic_list()) "
    }
   },
   "types_to_exclude": [
    "module",
    "function",
    "builtin_function_or_method",
    "instance",
    "_Feature"
   ],
   "window_display": false
  }
 },
 "nbformat": 4,
 "nbformat_minor": 5
}
